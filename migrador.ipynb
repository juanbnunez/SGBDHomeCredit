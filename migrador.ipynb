{
 "cells": [
  {
   "cell_type": "code",
   "execution_count": 1,
   "metadata": {},
   "outputs": [],
   "source": [
    "import pandas as pd #El manejo de archivos csv\n",
    "import pyodbc #Para la conexion con SQL SERVER\n",
    "import numpy as np #Manejos numericos\n",
    "import string #En caso de necesitar manejo de strings"
   ]
  },
  {
   "cell_type": "code",
   "execution_count": 28,
   "metadata": {},
   "outputs": [],
   "source": [
    "csv_file = 'properties_customers(application_train).csv'\n",
    "df = pd.read_csv(csv_file,decimal=',')"
   ]
  },
  {
   "cell_type": "code",
   "execution_count": 29,
   "metadata": {},
   "outputs": [],
   "source": [
    "df = df.where(pd.notnull(df), None)"
   ]
  },
  {
   "cell_type": "code",
   "execution_count": 30,
   "metadata": {},
   "outputs": [],
   "source": [
    "# Configura la cadena de conexión\n",
    "server = 'DESKTOP-5GQ42K8'\n",
    "database = 'Pruebas'\n",
    "username = 'sa'\n",
    "password = '12345'\n",
    "\n",
    "# Crea la cadena de conexión\n",
    "conn_str = f'DRIVER={{SQL Server}};SERVER={server};DATABASE={database};UID={username};PWD={password}'\n",
    "\n",
    "# Establece la conexión\n",
    "conn = pyodbc.connect(conn_str)\n",
    "cursor = conn.cursor() #Abre un cursor"
   ]
  },
  {
   "cell_type": "code",
   "execution_count": 32,
   "metadata": {},
   "outputs": [],
   "source": [
    "create_table_query = '''\n",
    "CREATE TABLE PROPERTIES_CUSTOMERS_APPLICATION_TRAIN (\n",
    "    ID INT,\n",
    "    FLAG_OWN_CAR CHAR(1),\n",
    "    FLAG_OWN_REALTY CHAR(1),\n",
    "    OWN_CAR_AGE INT\n",
    "    CONSTRAINT pk_PROPERTIES_CUSTOMERS_APPLICATION_TRAIN PRIMARY KEY(ID)\n",
    ")\n",
    "'''\n",
    "cursor.execute(create_table_query)\n",
    "conn.commit()\n",
    "\n"
   ]
  },
  {
   "cell_type": "code",
   "execution_count": 22,
   "metadata": {},
   "outputs": [],
   "source": [
    "for index, row in df.iterrows():\n",
    "    # Verificar si OWN_CAR_AGE no es nulo y es numérico\n",
    "    if row['OWN_CAR_AGE'] is not None and str(row['OWN_CAR_AGE']).isnumeric():\n",
    "        # Convertir OWN_CAR_AGE a entero si no es nulo y es numérico\n",
    "        own_car_age = int(row['OWN_CAR_AGE'])\n",
    "    else:\n",
    "        # Establecer un valor predeterminado o manejar el caso de ser nulo o no numérico\n",
    "        own_car_age = 0  # Cambia esto por el valor predeterminado que desees\n",
    "\n",
    "    insert_query = \"INSERT INTO PROPERTIES_CUSTOMERS_APPLICATION_TRAIN (ID, FLAG_OWN_CAR, FLAG_OWN_REALTY, OWN_CAR_AGE) VALUES (?, ?, ?, ?)\"\n",
    "    cursor.execute(insert_query, row['ID'], row['FLAG_OWN_CAR'], row['FLAG_OWN_REALTY'], own_car_age)\n",
    "    \n",
    "conn.commit()\n"
   ]
  },
  {
   "cell_type": "code",
   "execution_count": 33,
   "metadata": {},
   "outputs": [],
   "source": [
    "for index, row in df.iterrows():\n",
    "    # Verificar si OWN_CAR_AGE no es nulo y es numérico\n",
    "    if row['OWN_CAR_AGE'] is not None:\n",
    "        # Convertir OWN_CAR_AGE a entero si no es nulo\n",
    "        own_car_age = int(float(row['OWN_CAR_AGE']))\n",
    "    else:\n",
    "        # Establecer un valor predeterminado o manejar el caso de ser nulo\n",
    "        own_car_age = 0  # Cambia esto por el valor predeterminado que desees\n",
    "\n",
    "    insert_query = \"INSERT INTO PROPERTIES_CUSTOMERS_APPLICATION_TRAIN (ID, FLAG_OWN_CAR, FLAG_OWN_REALTY, OWN_CAR_AGE) VALUES (?, ?, ?, ?)\"\n",
    "    cursor.execute(insert_query, row['ID'], row['FLAG_OWN_CAR'], row['FLAG_OWN_REALTY'], own_car_age)\n",
    "    \n",
    "conn.commit()\n",
    "\n"
   ]
  }
 ],
 "metadata": {
  "kernelspec": {
   "display_name": "Python 3",
   "language": "python",
   "name": "python3"
  },
  "language_info": {
   "name": "python",
   "version": "3.11.3"
  }
 },
 "nbformat": 4,
 "nbformat_minor": 2
}
