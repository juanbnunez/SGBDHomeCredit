{
 "cells": [
  {
   "cell_type": "code",
   "execution_count": 2,
   "metadata": {},
   "outputs": [],
   "source": [
    "import pandas as pd #El manejo de archivos csv\n",
    "import pyodbc #Para la conexion con SQL SERVER\n",
    "import numpy as np #Manejos numericos\n",
    "import string #En caso de necesitar manejo de strings"
   ]
  },
  {
   "cell_type": "code",
   "execution_count": 3,
   "metadata": {},
   "outputs": [],
   "source": [
    "csv_file = 'properties_customers(application_train).csv'\n",
    "df = pd.read_csv(csv_file,decimal=',')"
   ]
  },
  {
   "cell_type": "code",
   "execution_count": 4,
   "metadata": {},
   "outputs": [],
   "source": [
    "df = df.where(pd.notnull(df), None)"
   ]
  },
  {
   "cell_type": "code",
   "execution_count": 5,
   "metadata": {},
   "outputs": [],
   "source": [
    "# Configura la cadena de conexión\n",
    "server = 'DESKTOP-5GQ42K8'\n",
    "database = 'ProyectoBases'\n",
    "username = 'sa'\n",
    "password = '12345'\n",
    "\n",
    "# Crea la cadena de conexión\n",
    "conn_str = f'DRIVER={{SQL Server}};SERVER={server};DATABASE={database};UID={username};PWD={password}'\n",
    "\n",
    "# Establece la conexión\n",
    "conn = pyodbc.connect(conn_str)\n",
    "cursor = conn.cursor() #Abre un cursor"
   ]
  },
  {
   "cell_type": "code",
   "execution_count": 6,
   "metadata": {},
   "outputs": [],
   "source": [
    "create_table_query = '''\n",
    "CREATE TABLE PROPERTIES_CUSTOMERS_APPLICATION_TRAIN (\n",
    "    ID INT,\n",
    "    FLAG_OWN_CAR CHAR(1),\n",
    "    FLAG_OWN_REALTY CHAR(1),\n",
    "    OWN_CAR_AGE INT\n",
    "    CONSTRAINT pk_PROPERTIES_CUSTOMERS_APPLICATION_TRAIN PRIMARY KEY(ID)\n",
    ")\n",
    "'''\n",
    "cursor.execute(create_table_query)\n",
    "conn.commit()\n",
    "\n"
   ]
  },
  {
   "cell_type": "code",
   "execution_count": 7,
   "metadata": {},
   "outputs": [],
   "source": [
    "for index, row in df.iterrows():\n",
    "    # Verificar si OWN_CAR_AGE no es nulo y es numérico\n",
    "    if row['OWN_CAR_AGE'] is not None and str(row['OWN_CAR_AGE']).isnumeric():\n",
    "        # Convertir OWN_CAR_AGE a entero si no es nulo y es numérico\n",
    "        own_car_age = int(row['OWN_CAR_AGE'])\n",
    "    else:\n",
    "        # Establecer un valor predeterminado o manejar el caso de ser nulo o no numérico\n",
    "        own_car_age = 0  # Cambia esto por el valor predeterminado que desees\n",
    "\n",
    "    insert_query = \"INSERT INTO PROPERTIES_CUSTOMERS_APPLICATION_TRAIN (ID, FLAG_OWN_CAR, FLAG_OWN_REALTY, OWN_CAR_AGE) VALUES (?, ?, ?, ?)\"\n",
    "    cursor.execute(insert_query, row['ID'], row['FLAG_OWN_CAR'], row['FLAG_OWN_REALTY'], own_car_age)\n",
    "    \n",
    "conn.commit()\n",
    "# Cerrar el cursor\n",
    "cursor.close()\n",
    "\n",
    "# Cerrar la conexión\n",
    "conn.close()"
   ]
  },
  {
   "cell_type": "code",
   "execution_count": 8,
   "metadata": {},
   "outputs": [
    {
     "ename": "IntegrityError",
     "evalue": "('23000', \"[23000] [Microsoft][ODBC SQL Server Driver][SQL Server]Violation of PRIMARY KEY constraint 'pk_PROPERTIES_CUSTOMERS_APPLICATION_TRAIN'. Cannot insert duplicate key in object 'dbo.PROPERTIES_CUSTOMERS_APPLICATION_TRAIN'. The duplicate key value is (0). (2627) (SQLExecDirectW); [23000] [Microsoft][ODBC SQL Server Driver][SQL Server]The statement has been terminated. (3621)\")",
     "output_type": "error",
     "traceback": [
      "\u001b[1;31m---------------------------------------------------------------------------\u001b[0m",
      "\u001b[1;31mIntegrityError\u001b[0m                            Traceback (most recent call last)",
      "\u001b[1;32md:\\TEC\\Bases II\\Proyecto\\SGBDHomeCredit\\migrador.ipynb Cell 7\u001b[0m line \u001b[0;36m1\n\u001b[0;32m      <a href='vscode-notebook-cell:/d%3A/TEC/Bases%20II/Proyecto/SGBDHomeCredit/migrador.ipynb#W6sZmlsZQ%3D%3D?line=7'>8</a>\u001b[0m         own_car_age \u001b[39m=\u001b[39m \u001b[39m0\u001b[39m  \u001b[39m# Cambia esto por el valor predeterminado que desees\u001b[39;00m\n\u001b[0;32m     <a href='vscode-notebook-cell:/d%3A/TEC/Bases%20II/Proyecto/SGBDHomeCredit/migrador.ipynb#W6sZmlsZQ%3D%3D?line=9'>10</a>\u001b[0m     insert_query \u001b[39m=\u001b[39m \u001b[39m\"\u001b[39m\u001b[39mINSERT INTO PROPERTIES_CUSTOMERS_APPLICATION_TRAIN (ID, FLAG_OWN_CAR, FLAG_OWN_REALTY, OWN_CAR_AGE) VALUES (?, ?, ?, ?)\u001b[39m\u001b[39m\"\u001b[39m\n\u001b[1;32m---> <a href='vscode-notebook-cell:/d%3A/TEC/Bases%20II/Proyecto/SGBDHomeCredit/migrador.ipynb#W6sZmlsZQ%3D%3D?line=10'>11</a>\u001b[0m     cursor\u001b[39m.\u001b[39;49mexecute(insert_query, row[\u001b[39m'\u001b[39;49m\u001b[39mID\u001b[39;49m\u001b[39m'\u001b[39;49m], row[\u001b[39m'\u001b[39;49m\u001b[39mFLAG_OWN_CAR\u001b[39;49m\u001b[39m'\u001b[39;49m], row[\u001b[39m'\u001b[39;49m\u001b[39mFLAG_OWN_REALTY\u001b[39;49m\u001b[39m'\u001b[39;49m], own_car_age)\n\u001b[0;32m     <a href='vscode-notebook-cell:/d%3A/TEC/Bases%20II/Proyecto/SGBDHomeCredit/migrador.ipynb#W6sZmlsZQ%3D%3D?line=12'>13</a>\u001b[0m conn\u001b[39m.\u001b[39mcommit()\n",
      "\u001b[1;31mIntegrityError\u001b[0m: ('23000', \"[23000] [Microsoft][ODBC SQL Server Driver][SQL Server]Violation of PRIMARY KEY constraint 'pk_PROPERTIES_CUSTOMERS_APPLICATION_TRAIN'. Cannot insert duplicate key in object 'dbo.PROPERTIES_CUSTOMERS_APPLICATION_TRAIN'. The duplicate key value is (0). (2627) (SQLExecDirectW); [23000] [Microsoft][ODBC SQL Server Driver][SQL Server]The statement has been terminated. (3621)\")"
     ]
    }
   ],
   "source": [
    "# for index, row in df.iterrows():\n",
    "#     # Verificar si OWN_CAR_AGE no es nulo y es numérico\n",
    "#     if row['OWN_CAR_AGE'] is not None:\n",
    "#         # Convertir OWN_CAR_AGE a entero si no es nulo\n",
    "#         own_car_age = int(float(row['OWN_CAR_AGE']))\n",
    "#     else:\n",
    "#         # Establecer un valor predeterminado o manejar el caso de ser nulo\n",
    "#         own_car_age = 0  # Cambia esto por el valor predeterminado que desees\n",
    "\n",
    "#     insert_query = \"INSERT INTO PROPERTIES_CUSTOMERS_APPLICATION_TRAIN (ID, FLAG_OWN_CAR, FLAG_OWN_REALTY, OWN_CAR_AGE) VALUES (?, ?, ?, ?)\"\n",
    "#     cursor.execute(insert_query, row['ID'], row['FLAG_OWN_CAR'], row['FLAG_OWN_REALTY'], own_car_age)\n",
    "    \n",
    "# conn.commit()\n",
    "\n"
   ]
  }
 ],
 "metadata": {
  "kernelspec": {
   "display_name": "Python 3",
   "language": "python",
   "name": "python3"
  },
  "language_info": {
   "codemirror_mode": {
    "name": "ipython",
    "version": 3
   },
   "file_extension": ".py",
   "mimetype": "text/x-python",
   "name": "python",
   "nbconvert_exporter": "python",
   "pygments_lexer": "ipython3",
   "version": "3.11.3"
  }
 },
 "nbformat": 4,
 "nbformat_minor": 2
}
